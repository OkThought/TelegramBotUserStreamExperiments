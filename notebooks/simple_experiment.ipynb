{
 "cells": [
  {
   "cell_type": "markdown",
   "source": [
    "## Простой эксперимент\n",
    "\n",
    "Этот эксперимент простой, потому что не берет во внимание саму структуру бота. Диалоги тут генерируются случайным нормальным распределением.\n",
    "\n",
    "Здесь я генерирую визиты клиентов в бот с рекламы с заданной продолжительностью.\n",
    "Поведение каждого клиента симулирую случайным количеством взаимодействий с ботом со случайными промежутками между взаимодействиями.\n",
    "\n",
    "Так я накапливаю большой массив дат запросов за время работы рекламы.\n",
    "\n",
    "Полученный массив разбиваю посекундно и считаю, сколько в каждую секунду было сделано запросов от всего объема клиентов.\n",
    "\n",
    "Если предполагать, что бот отвечает на каждый запрос одним сообщением, то число этих запросов будет равно числу ответов бота.\n",
    "Так можно оценить, какая будет нагрузка и предполагаемая задержка ответа ботом.\n",
    "\n",
    "Например, если среднее число запросов в секунду в районе 30, то в среднем бот будет отвечать мгновенно, иногда через секунду, еще реже – через две секунды и т.д.\n",
    "\n",
    "Но если в боте запрограммированы рассылки в фиксированное время суток, то в эти моменты пиковые нагрузки будут выше, чем оцениваемые в этом эксперименте.\n",
    "\n",
    "### Вводные данные"
   ],
   "metadata": {
    "collapsed": false
   }
  },
  {
   "cell_type": "code",
   "execution_count": 1,
   "outputs": [
    {
     "name": "stdout",
     "output_type": "stream",
     "text": [
      "Параметры эксперимента:\n",
      "\n",
      "Старт рекламы: 2021-11-10 12:00:00+02:30\n",
      "Продолжительность рекламы: 5 дней\n",
      "Реклама активна в течение каждого дня (в часах): 24\n",
      "Количество кликов по рекламе в час (минимум): 800\n",
      "Количество кликов по рекламе в час (максимум): 1200\n",
      "Вероятность, что клиент уйдет (действует на каждом шаге): 0.10%\n",
      "Сколько шагов проходит каждый клиент (минимум): 2\n",
      "Сколько шагов проходит каждый клиент (максимум): 50\n",
      "Время между шагами (в секундах, среднее): 60.0\n",
      "Время между шагами (в секундах, стандартное отклонение \"шум\"): 300.0\n",
      "\n"
     ]
    }
   ],
   "source": [
    "import datetime as dt\n",
    "import pytz\n",
    "\n",
    "MSK = pytz.timezone('Europe/Moscow')\n",
    "\n",
    "AD_START_TIME = dt.datetime(2021, 11, 10, 12, tzinfo=MSK)\n",
    "AD_START_TIME.isoformat()\n",
    "\n",
    "MIN_CLICKS_PER_HOUR = 800\n",
    "MAX_CLICKS_PER_HOUR = 1200\n",
    "\n",
    "AD_TOTAL_DAYS = 5\n",
    "AD_ACTIVE_HOURS_PER_DAY = 24\n",
    "\n",
    "EXIT_PROBABILITY = .001\n",
    "\n",
    "MIN_STEPS = 2\n",
    "MAX_STEPS = 50\n",
    "MIN_SECONDS_BETWEEN_STEPS = 5.\n",
    "MEAN_SECONDS_BETWEEN_STEPS = 60.\n",
    "STD_SECONDS_BETWEEN_STEPS = 60. * 5\n",
    "\n",
    "\n",
    "def print_inputs():\n",
    "    print(\n",
    "        f'Параметры эксперимента:\\n\\n'\n",
    "        f'Старт рекламы: {AD_START_TIME}\\n'\n",
    "        f'Продолжительность рекламы: {AD_TOTAL_DAYS} дней\\n'\n",
    "        f'Реклама активна в течение каждого дня (в часах): {AD_ACTIVE_HOURS_PER_DAY}\\n'\n",
    "        f'Количество кликов по рекламе в час (минимум): {MIN_CLICKS_PER_HOUR}\\n'\n",
    "        f'Количество кликов по рекламе в час (максимум): {MAX_CLICKS_PER_HOUR}\\n'\n",
    "        f'Вероятность, что клиент уйдет (действует на каждом шаге): {EXIT_PROBABILITY:.2%}\\n'\n",
    "        f'Сколько шагов проходит каждый клиент (минимум): {MIN_STEPS}\\n'\n",
    "        f'Сколько шагов проходит каждый клиент (максимум): {MAX_STEPS}\\n'\n",
    "        f'Время между шагами (в секундах, среднее): {MEAN_SECONDS_BETWEEN_STEPS}\\n'\n",
    "        f'Время между шагами (в секундах, стандартное отклонение \"шум\"): {STD_SECONDS_BETWEEN_STEPS}\\n'\n",
    "    )\n",
    "\n",
    "print_inputs()"
   ],
   "metadata": {
    "collapsed": false,
    "pycharm": {
     "name": "#%%\n"
    }
   }
  },
  {
   "cell_type": "markdown",
   "source": [
    "### Симуляция"
   ],
   "metadata": {
    "collapsed": false
   }
  },
  {
   "cell_type": "code",
   "execution_count": 2,
   "outputs": [],
   "source": [
    "import pandas as pd\n",
    "import random\n",
    "import numpy as np"
   ],
   "metadata": {
    "collapsed": false,
    "pycharm": {
     "name": "#%%\n"
    }
   }
  },
  {
   "cell_type": "code",
   "execution_count": 3,
   "outputs": [
    {
     "data": {
      "text/plain": "<AxesSubplot:title={'center':'Распределение времени между шагами (в секундах)'}, ylabel='Frequency'>"
     },
     "execution_count": 3,
     "metadata": {},
     "output_type": "execute_result"
    },
    {
     "data": {
      "text/plain": "<Figure size 432x288 with 1 Axes>",
      "image/png": "[encoded data removed]"
     },
     "metadata": {
      "needs_background": "light"
     },
     "output_type": "display_data"
    }
   ],
   "source": [
    "def generate_dialog_steps(count=MAX_STEPS):\n",
    "    return [\n",
    "        max(MIN_SECONDS_BETWEEN_STEPS, i) for i in\n",
    "        np.random.normal(MEAN_SECONDS_BETWEEN_STEPS, STD_SECONDS_BETWEEN_STEPS, count)\n",
    "    ]\n",
    "\n",
    "pd.Series(generate_dialog_steps(10000)).plot(kind='hist', bins=10, title='Распределение времени между шагами (в секундах)')"
   ],
   "metadata": {
    "collapsed": false,
    "pycharm": {
     "name": "#%%\n"
    }
   }
  },
  {
   "cell_type": "code",
   "execution_count": 4,
   "outputs": [
    {
     "data": {
      "text/plain": "'Сгенерировано запросов: 2990216'"
     },
     "execution_count": 4,
     "metadata": {},
     "output_type": "execute_result"
    }
   ],
   "source": [
    "requests = []\n",
    "total_clients = 0\n",
    "for day in range(AD_TOTAL_DAYS):\n",
    "    for hour in range(AD_ACTIVE_HOURS_PER_DAY):\n",
    "        clicks_in_this_hour = random.uniform(MIN_CLICKS_PER_HOUR, MAX_CLICKS_PER_HOUR)\n",
    "        start_time = AD_START_TIME + dt.timedelta(days=day, hours=hour)\n",
    "        for click_no in range(int(clicks_in_this_hour)):\n",
    "            client_id = f'{day}:{hour}:{click_no}'\n",
    "            total_clients += 1\n",
    "            start_time = AD_START_TIME + dt.timedelta(days=day, hours=hour + random.uniform(0, 1))\n",
    "            request_time = start_time\n",
    "            steps_count = int(random.uniform(MIN_STEPS, MAX_STEPS))\n",
    "            for step in generate_dialog_steps(steps_count):\n",
    "                requests.append({\n",
    "                    'time': request_time,\n",
    "                    'client': client_id,\n",
    "                    'requests': 1,\n",
    "                })\n",
    "\n",
    "                request_time += dt.timedelta(seconds=step)\n",
    "total_requests = len(requests)\n",
    "f'Сгенерировано запросов: {total_requests}'"
   ],
   "metadata": {
    "collapsed": false,
    "pycharm": {
     "name": "#%%\n"
    }
   }
  },
  {
   "cell_type": "code",
   "execution_count": 5,
   "outputs": [],
   "source": [
    "requests_df = pd.DataFrame.from_records(requests, index='time')"
   ],
   "metadata": {
    "collapsed": false,
    "pycharm": {
     "name": "#%%\n"
    }
   }
  },
  {
   "cell_type": "code",
   "execution_count": 6,
   "outputs": [
    {
     "data": {
      "text/plain": "                                 client  requests\ntime                                             \n2021-11-10 13:05:38.439438+03:00  0:0:0         1\n2021-11-10 13:06:53.976256+03:00  0:0:0         1\n2021-11-10 13:06:58.976256+03:00  0:0:0         1\n2021-11-10 13:07:55.432656+03:00  0:0:0         1\n2021-11-10 13:09:23.441591+03:00  0:0:0         1",
      "text/html": "<div>\n<style scoped>\n    .dataframe tbody tr th:only-of-type {\n        vertical-align: middle;\n    }\n\n    .dataframe tbody tr th {\n        vertical-align: top;\n    }\n\n    .dataframe thead th {\n        text-align: right;\n    }\n</style>\n<table border=\"1\" class=\"dataframe\">\n  <thead>\n    <tr style=\"text-align: right;\">\n      <th></th>\n      <th>client</th>\n      <th>requests</th>\n    </tr>\n    <tr>\n      <th>time</th>\n      <th></th>\n      <th></th>\n    </tr>\n  </thead>\n  <tbody>\n    <tr>\n      <th>2021-11-10 13:05:38.439438+03:00</th>\n      <td>0:0:0</td>\n      <td>1</td>\n    </tr>\n    <tr>\n      <th>2021-11-10 13:06:53.976256+03:00</th>\n      <td>0:0:0</td>\n      <td>1</td>\n    </tr>\n    <tr>\n      <th>2021-11-10 13:06:58.976256+03:00</th>\n      <td>0:0:0</td>\n      <td>1</td>\n    </tr>\n    <tr>\n      <th>2021-11-10 13:07:55.432656+03:00</th>\n      <td>0:0:0</td>\n      <td>1</td>\n    </tr>\n    <tr>\n      <th>2021-11-10 13:09:23.441591+03:00</th>\n      <td>0:0:0</td>\n      <td>1</td>\n    </tr>\n  </tbody>\n</table>\n</div>"
     },
     "execution_count": 6,
     "metadata": {},
     "output_type": "execute_result"
    }
   ],
   "source": [
    "requests_df.head()"
   ],
   "metadata": {
    "collapsed": false,
    "pycharm": {
     "name": "#%%\n"
    }
   }
  },
  {
   "cell_type": "code",
   "execution_count": 7,
   "outputs": [
    {
     "data": {
      "text/plain": "                           requests\ntime                               \n2021-11-10 12:30:05+03:00         1\n2021-11-10 12:30:06+03:00         0\n2021-11-10 12:30:07+03:00         1\n2021-11-10 12:30:08+03:00         0\n2021-11-10 12:30:09+03:00         0",
      "text/html": "<div>\n<style scoped>\n    .dataframe tbody tr th:only-of-type {\n        vertical-align: middle;\n    }\n\n    .dataframe tbody tr th {\n        vertical-align: top;\n    }\n\n    .dataframe thead th {\n        text-align: right;\n    }\n</style>\n<table border=\"1\" class=\"dataframe\">\n  <thead>\n    <tr style=\"text-align: right;\">\n      <th></th>\n      <th>requests</th>\n    </tr>\n    <tr>\n      <th>time</th>\n      <th></th>\n    </tr>\n  </thead>\n  <tbody>\n    <tr>\n      <th>2021-11-10 12:30:05+03:00</th>\n      <td>1</td>\n    </tr>\n    <tr>\n      <th>2021-11-10 12:30:06+03:00</th>\n      <td>0</td>\n    </tr>\n    <tr>\n      <th>2021-11-10 12:30:07+03:00</th>\n      <td>1</td>\n    </tr>\n    <tr>\n      <th>2021-11-10 12:30:08+03:00</th>\n      <td>0</td>\n    </tr>\n    <tr>\n      <th>2021-11-10 12:30:09+03:00</th>\n      <td>0</td>\n    </tr>\n  </tbody>\n</table>\n</div>"
     },
     "execution_count": 7,
     "metadata": {},
     "output_type": "execute_result"
    }
   ],
   "source": [
    "df = requests_df.copy()\n",
    "df.drop(columns='client', inplace=True)\n",
    "df.sort_index(inplace=True)\n",
    "df = df.resample('S').sum()\n",
    "df.head()"
   ],
   "metadata": {
    "collapsed": false,
    "pycharm": {
     "name": "#%%\n"
    }
   }
  },
  {
   "cell_type": "markdown",
   "source": [
    "### Результаты"
   ],
   "metadata": {
    "collapsed": false
   }
  },
  {
   "cell_type": "code",
   "execution_count": 8,
   "outputs": [
    {
     "data": {
      "text/plain": "<AxesSubplot:title={'center':'Количество запросов в секунду'}, ylabel='Frequency'>"
     },
     "execution_count": 8,
     "metadata": {},
     "output_type": "execute_result"
    },
    {
     "data": {
      "text/plain": "<Figure size 432x288 with 1 Axes>",
      "image/png": "[encoded data removed]"
     },
     "metadata": {
      "needs_background": "light"
     },
     "output_type": "display_data"
    }
   ],
   "source": [
    "df.plot(kind='hist', title='Количество запросов в секунду', bins=10)"
   ],
   "metadata": {
    "collapsed": false,
    "pycharm": {
     "name": "#%%\n"
    }
   }
  },
  {
   "cell_type": "code",
   "execution_count": 9,
   "outputs": [
    {
     "name": "stdout",
     "output_type": "stream",
     "text": [
      "Статистика:\n",
      "\n",
      "Запросов в секунду:\n",
      "  Максимум: 23\n",
      "  Минимум: 0\n",
      "  В среднем: 6.78\n",
      "\n",
      "Всего клиентов: 117191\n",
      "Всего взаимодействий: 2990216\n",
      "\n"
     ]
    }
   ],
   "source": [
    "requests_max = df.requests.max()\n",
    "requests_min = df.requests.min()\n",
    "requests_mean = df.requests.mean()\n",
    "\n",
    "def print_results():\n",
    "    print(\n",
    "        'Статистика:\\n\\n'\n",
    "        'Запросов в секунду:\\n'\n",
    "        f'  Максимум: {requests_max}\\n'\n",
    "        f'  Минимум: {requests_min}\\n'\n",
    "        f'  В среднем: {requests_mean:.2f}\\n\\n'\n",
    "        f'Всего клиентов: {total_clients}\\n'\n",
    "        f'Всего взаимодействий: {total_requests}\\n'\n",
    "    )\n",
    "\n",
    "print_results()"
   ],
   "metadata": {
    "collapsed": false,
    "pycharm": {
     "name": "#%%\n"
    }
   }
  },
  {
   "cell_type": "code",
   "execution_count": 10,
   "outputs": [
    {
     "name": "stdout",
     "output_type": "stream",
     "text": [
      "Параметры эксперимента:\n",
      "\n",
      "Старт рекламы: 2021-11-10 12:00:00+02:30\n",
      "Продолжительность рекламы: 5 дней\n",
      "Реклама активна в течение каждого дня (в часах): 24\n",
      "Количество кликов по рекламе в час (минимум): 800\n",
      "Количество кликов по рекламе в час (максимум): 1200\n",
      "Вероятность, что клиент уйдет (действует на каждом шаге): 0.10%\n",
      "Сколько шагов проходит каждый клиент (минимум): 2\n",
      "Сколько шагов проходит каждый клиент (максимум): 50\n",
      "Время между шагами (в секундах, среднее): 60.0\n",
      "Время между шагами (в секундах, стандартное отклонение \"шум\"): 300.0\n",
      "\n"
     ]
    }
   ],
   "source": [
    "print_inputs()"
   ],
   "metadata": {
    "collapsed": false,
    "pycharm": {
     "name": "#%%\n"
    }
   }
  }
 ],
 "metadata": {
  "kernelspec": {
   "display_name": "Python 3",
   "language": "python",
   "name": "python3"
  },
  "language_info": {
   "codemirror_mode": {
    "name": "ipython",
    "version": 2
   },
   "file_extension": ".py",
   "mimetype": "text/x-python",
   "name": "python",
   "nbconvert_exporter": "python",
   "pygments_lexer": "ipython2",
   "version": "2.7.6"
  }
 },
 "nbformat": 4,
 "nbformat_minor": 0
}