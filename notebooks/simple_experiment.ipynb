{
 "cells": [
  {
   "cell_type": "markdown",
   "source": [
    "# Простой эксперимент\n",
    "\n",
    "Этот эксперимент простой, потому что не берет во внимание саму структуру бота. Диалоги тут генерируются случайным нормальным распределением.\n",
    "\n",
    "Здесь я генерирую визиты клиентов в бот с рекламы с заданной продолжительностью.\n",
    "Поведение каждого клиента симулирую случайным количеством взаимодействий с ботом со случайными промежутками между взаимодействиями.\n",
    "\n",
    "Так я накапливаю большой массив дат запросов за время работы рекламы.\n",
    "\n",
    "Полученный массив разбиваю посекундно и считаю, сколько в каждую секунду было сделано запросов от всего объема клиентов.\n",
    "\n",
    "Если предполагать, что бот отвечает на каждый запрос одним сообщением, то число этих запросов будет равно числу ответов бота.\n",
    "Так можно оценить, какая будет нагрузка и предполагаемая задержка ответа ботом.\n",
    "\n",
    "Например, если среднее число запросов в секунду в районе 30, то в среднем бот будет отвечать мгновенно, иногда через секунду, еще реже – через две секунды и т.д.\n",
    "\n",
    "Но если в боте запрограммированы рассылки в фиксированное время суток, то в эти моменты пиковые нагрузки будут выше, чем оцениваемые в этом эксперименте.\n",
    "\n",
    "## Вводные данные"
   ],
   "metadata": {
    "collapsed": false
   }
  },
  {
   "cell_type": "code",
   "execution_count": 21,
   "outputs": [
    {
     "name": "stdout",
     "output_type": "stream",
     "text": [
      "Параметры эксперимента:\n",
      "\n",
      "Старт рекламы: 2021-11-10 12:00:00+02:30\n",
      "Продолжительность рекламы: 5 дней\n",
      "Реклама активна в течение каждого дня (в часах): 24\n",
      "Количество кликов по рекламе в час (минимум): 800\n",
      "Количество кликов по рекламе в час (максимум): 1200\n",
      "Сколько шагов проходит каждый клиент (минимум): 2\n",
      "Сколько шагов проходит каждый клиент (максимум): 50\n",
      "Время между шагами (в секундах, среднее): 60.0\n",
      "Время между шагами (в секундах, стандартное отклонение \"шум\"): 300.0\n",
      "\n"
     ]
    }
   ],
   "source": [
    "import datetime as dt\n",
    "import pytz\n",
    "\n",
    "MSK = pytz.timezone('Europe/Moscow')\n",
    "\n",
    "AD_START_TIME = dt.datetime(2021, 11, 10, 12, tzinfo=MSK)\n",
    "AD_START_TIME.isoformat()\n",
    "\n",
    "MIN_CLICKS_PER_HOUR = 800\n",
    "MAX_CLICKS_PER_HOUR = 1200\n",
    "\n",
    "AD_TOTAL_DAYS = 5\n",
    "AD_ACTIVE_HOURS_PER_DAY = 24\n",
    "\n",
    "MIN_STEPS = 2\n",
    "MAX_STEPS = 50\n",
    "MIN_SECONDS_BETWEEN_STEPS = 5.\n",
    "MEAN_SECONDS_BETWEEN_STEPS = 60.\n",
    "STD_SECONDS_BETWEEN_STEPS = 60. * 5\n",
    "\n",
    "\n",
    "def print_inputs():\n",
    "    print(\n",
    "        f'Параметры эксперимента:\\n\\n'\n",
    "        f'Старт рекламы: {AD_START_TIME}\\n'\n",
    "        f'Продолжительность рекламы: {AD_TOTAL_DAYS} дней\\n'\n",
    "        f'Реклама активна в течение каждого дня (в часах): {AD_ACTIVE_HOURS_PER_DAY}\\n'\n",
    "        f'Количество кликов по рекламе в час (минимум): {MIN_CLICKS_PER_HOUR}\\n'\n",
    "        f'Количество кликов по рекламе в час (максимум): {MAX_CLICKS_PER_HOUR}\\n'\n",
    "        f'Сколько шагов проходит каждый клиент (минимум): {MIN_STEPS}\\n'\n",
    "        f'Сколько шагов проходит каждый клиент (максимум): {MAX_STEPS}\\n'\n",
    "        f'Время между шагами (в секундах, среднее): {MEAN_SECONDS_BETWEEN_STEPS}\\n'\n",
    "        f'Время между шагами (в секундах, стандартное отклонение \"шум\"): {STD_SECONDS_BETWEEN_STEPS}\\n'\n",
    "    )\n",
    "\n",
    "print_inputs()"
   ],
   "metadata": {
    "collapsed": false,
    "pycharm": {
     "name": "#%%\n"
    }
   }
  },
  {
   "cell_type": "markdown",
   "source": [
    "### Симуляция"
   ],
   "metadata": {
    "collapsed": false
   }
  },
  {
   "cell_type": "code",
   "execution_count": 22,
   "outputs": [],
   "source": [
    "import pandas as pd\n",
    "import random\n",
    "import numpy as np"
   ],
   "metadata": {
    "collapsed": false,
    "pycharm": {
     "name": "#%%\n"
    }
   }
  },
  {
   "cell_type": "code",
   "execution_count": 23,
   "outputs": [
    {
     "data": {
      "text/plain": "<AxesSubplot:title={'center':'Распределение времени между шагами (в секундах)'}, ylabel='Frequency'>"
     },
     "execution_count": 23,
     "metadata": {},
     "output_type": "execute_result"
    },
    {
     "data": {
      "text/plain": "<Figure size 432x288 with 1 Axes>",
      "image/png": "[encoded data removed]"
     },
     "metadata": {
      "needs_background": "light"
     },
     "output_type": "display_data"
    }
   ],
   "source": [
    "def generate_dialog_steps(count=MAX_STEPS):\n",
    "    return [\n",
    "        max(MIN_SECONDS_BETWEEN_STEPS, i) for i in\n",
    "        np.random.normal(MEAN_SECONDS_BETWEEN_STEPS, STD_SECONDS_BETWEEN_STEPS, count)\n",
    "    ]\n",
    "\n",
    "pd.Series(generate_dialog_steps(10000)).plot(kind='hist', bins=10, title='Распределение времени между шагами (в секундах)')"
   ],
   "metadata": {
    "collapsed": false,
    "pycharm": {
     "name": "#%%\n"
    }
   }
  },
  {
   "cell_type": "code",
   "execution_count": 24,
   "outputs": [
    {
     "data": {
      "text/plain": "'Сгенерировано запросов: 3093474'"
     },
     "execution_count": 24,
     "metadata": {},
     "output_type": "execute_result"
    }
   ],
   "source": [
    "requests = []\n",
    "total_clients = 0\n",
    "for day in range(AD_TOTAL_DAYS):\n",
    "    for hour in range(AD_ACTIVE_HOURS_PER_DAY):\n",
    "        clicks_in_this_hour = random.uniform(MIN_CLICKS_PER_HOUR, MAX_CLICKS_PER_HOUR)\n",
    "        start_time = AD_START_TIME + dt.timedelta(days=day, hours=hour)\n",
    "        for click_no in range(int(clicks_in_this_hour)):\n",
    "            client_id = f'{day}:{hour}:{click_no}'\n",
    "            total_clients += 1\n",
    "            start_time = AD_START_TIME + dt.timedelta(days=day, hours=hour + random.uniform(0, 1))\n",
    "            request_time = start_time\n",
    "            steps_count = int(random.uniform(MIN_STEPS, MAX_STEPS))\n",
    "            dialog_duration = 0\n",
    "            for step in generate_dialog_steps(steps_count):\n",
    "                requests.append({\n",
    "                    'time': request_time,\n",
    "                    'client': client_id,\n",
    "                    'requests': 1,\n",
    "                    'duration_seconds': dialog_duration,\n",
    "                    'duration': dt.timedelta(seconds=dialog_duration),\n",
    "                })\n",
    "                dialog_duration += step\n",
    "                request_time += dt.timedelta(seconds=step)\n",
    "total_requests = len(requests)\n",
    "f'Сгенерировано запросов: {total_requests}'"
   ],
   "metadata": {
    "collapsed": false,
    "pycharm": {
     "name": "#%%\n"
    }
   }
  },
  {
   "cell_type": "code",
   "execution_count": 25,
   "outputs": [],
   "source": [
    "requests_df = pd.DataFrame.from_records(requests, index='time')"
   ],
   "metadata": {
    "collapsed": false,
    "pycharm": {
     "name": "#%%\n"
    }
   }
  },
  {
   "cell_type": "code",
   "execution_count": 26,
   "outputs": [
    {
     "data": {
      "text/plain": "                                 client  requests  duration_seconds  \\\ntime                                                                  \n2021-11-10 12:35:55.052590+03:00  0:0:0         1          0.000000   \n2021-11-10 12:39:48.193942+03:00  0:0:0         1        233.141352   \n2021-11-10 12:40:07.750392+03:00  0:0:0         1        252.697802   \n2021-11-10 12:40:12.750392+03:00  0:0:0         1        257.697802   \n2021-11-10 12:40:17.750392+03:00  0:0:0         1        262.697802   \n\n                                               duration  \ntime                                                     \n2021-11-10 12:35:55.052590+03:00        0 days 00:00:00  \n2021-11-10 12:39:48.193942+03:00 0 days 00:03:53.141352  \n2021-11-10 12:40:07.750392+03:00 0 days 00:04:12.697802  \n2021-11-10 12:40:12.750392+03:00 0 days 00:04:17.697802  \n2021-11-10 12:40:17.750392+03:00 0 days 00:04:22.697802  ",
      "text/html": "<div>\n<style scoped>\n    .dataframe tbody tr th:only-of-type {\n        vertical-align: middle;\n    }\n\n    .dataframe tbody tr th {\n        vertical-align: top;\n    }\n\n    .dataframe thead th {\n        text-align: right;\n    }\n</style>\n<table border=\"1\" class=\"dataframe\">\n  <thead>\n    <tr style=\"text-align: right;\">\n      <th></th>\n      <th>client</th>\n      <th>requests</th>\n      <th>duration_seconds</th>\n      <th>duration</th>\n    </tr>\n    <tr>\n      <th>time</th>\n      <th></th>\n      <th></th>\n      <th></th>\n      <th></th>\n    </tr>\n  </thead>\n  <tbody>\n    <tr>\n      <th>2021-11-10 12:35:55.052590+03:00</th>\n      <td>0:0:0</td>\n      <td>1</td>\n      <td>0.000000</td>\n      <td>0 days 00:00:00</td>\n    </tr>\n    <tr>\n      <th>2021-11-10 12:39:48.193942+03:00</th>\n      <td>0:0:0</td>\n      <td>1</td>\n      <td>233.141352</td>\n      <td>0 days 00:03:53.141352</td>\n    </tr>\n    <tr>\n      <th>2021-11-10 12:40:07.750392+03:00</th>\n      <td>0:0:0</td>\n      <td>1</td>\n      <td>252.697802</td>\n      <td>0 days 00:04:12.697802</td>\n    </tr>\n    <tr>\n      <th>2021-11-10 12:40:12.750392+03:00</th>\n      <td>0:0:0</td>\n      <td>1</td>\n      <td>257.697802</td>\n      <td>0 days 00:04:17.697802</td>\n    </tr>\n    <tr>\n      <th>2021-11-10 12:40:17.750392+03:00</th>\n      <td>0:0:0</td>\n      <td>1</td>\n      <td>262.697802</td>\n      <td>0 days 00:04:22.697802</td>\n    </tr>\n  </tbody>\n</table>\n</div>"
     },
     "execution_count": 26,
     "metadata": {},
     "output_type": "execute_result"
    }
   ],
   "source": [
    "requests_df.head()"
   ],
   "metadata": {
    "collapsed": false,
    "pycharm": {
     "name": "#%%\n"
    }
   }
  },
  {
   "cell_type": "markdown",
   "source": [
    "### Результаты"
   ],
   "metadata": {
    "collapsed": false
   }
  },
  {
   "cell_type": "code",
   "execution_count": 31,
   "outputs": [
    {
     "name": "stdout",
     "output_type": "stream",
     "text": [
      "Параметры эксперимента:\n",
      "\n",
      "Старт рекламы: 2021-11-10 12:00:00+02:30\n",
      "Продолжительность рекламы: 5 дней\n",
      "Реклама активна в течение каждого дня (в часах): 24\n",
      "Количество кликов по рекламе в час (минимум): 800\n",
      "Количество кликов по рекламе в час (максимум): 1200\n",
      "Сколько шагов проходит каждый клиент (минимум): 2\n",
      "Сколько шагов проходит каждый клиент (максимум): 50\n",
      "Время между шагами (в секундах, среднее): 60.0\n",
      "Время между шагами (в секундах, стандартное отклонение \"шум\"): 300.0\n",
      "\n"
     ]
    }
   ],
   "source": [
    "print_inputs()"
   ],
   "metadata": {
    "collapsed": false,
    "pycharm": {
     "name": "#%%\n"
    }
   }
  },
  {
   "cell_type": "code",
   "execution_count": 42,
   "outputs": [
    {
     "data": {
      "text/plain": "<Figure size 432x288 with 1 Axes>",
      "image/png": "[encoded data removed]"
     },
     "metadata": {
      "needs_background": "light"
     },
     "output_type": "display_data"
    }
   ],
   "source": [
    "df = requests_df.copy()\n",
    "df = df.requests\n",
    "df.sort_index(inplace=True)\n",
    "df = df.resample('S').sum()\n",
    "df.plot(kind='hist', title='Количество запросов в секунду', bins=25)\n",
    "rps_df = df  # requests per second"
   ],
   "metadata": {
    "collapsed": false,
    "pycharm": {
     "name": "#%%\n"
    }
   }
  },
  {
   "cell_type": "code",
   "execution_count": 29,
   "outputs": [
    {
     "name": "stdout",
     "output_type": "stream",
     "text": [
      "Статистика:\n",
      "\n",
      "Запросов в секунду:\n",
      "  Максимум: 26\n",
      "  Минимум: 0\n",
      "  В среднем: 6.99\n",
      "\n",
      "Всего клиентов: 121221\n",
      "Всего взаимодействий: 3093474\n",
      "\n"
     ]
    }
   ],
   "source": [
    "rps_max = rps_df.requests.max()\n",
    "rps_min = rps_df.requests.min()\n",
    "rps_mean = rps_df.requests.mean()"
   ],
   "metadata": {
    "collapsed": false,
    "pycharm": {
     "name": "#%%\n"
    }
   }
  },
  {
   "cell_type": "code",
   "execution_count": 44,
   "outputs": [
    {
     "data": {
      "text/plain": "<Figure size 432x288 with 1 Axes>",
      "image/png": "[encoded data removed]"
     },
     "metadata": {
      "needs_background": "light"
     },
     "output_type": "display_data"
    }
   ],
   "source": [
    "df = requests_df.copy()\n",
    "df = df.reset_index().set_index('client')\n",
    "df = df.groupby('client').duration_seconds.max() / 60 / 60\n",
    "df.plot(kind='hist', bins=50, title='Длительность диалога в часах')\n",
    "dialog_durations_df = df\n",
    "dialog_duration_max = df.max()\n",
    "dialog_duration_mean = df.mean()\n",
    "dialog_duration_min = df.min()"
   ],
   "metadata": {
    "collapsed": false,
    "pycharm": {
     "name": "#%%\n"
    }
   }
  },
  {
   "cell_type": "code",
   "execution_count": 50,
   "outputs": [
    {
     "name": "stdout",
     "output_type": "stream",
     "text": [
      "Статистика:\n",
      "    \n",
      "    Запросов в секунду:\n",
      "        Минимум: 0\n",
      "        Максимум: 26\n",
      "        В среднем: 6.99\n",
      "    \n",
      "    Длительность диалога в часах:\n",
      "        Минимум: 0.00\n",
      "        Максимум: 3.52\n",
      "        В среднем: 1.05\n",
      "    \n",
      "    Всего клиентов: 121221\n",
      "    Всего взаимодействий: 3093474\n",
      "\n"
     ]
    }
   ],
   "source": [
    "def print_results():\n",
    "    print(f'''Статистика:\n",
    "\n",
    "    Запросов в секунду:\n",
    "        Минимум: {rps_min}\n",
    "        Максимум: {rps_max}\n",
    "        В среднем: {rps_mean:.2f}\n",
    "\n",
    "    Длительность диалога в часах:\n",
    "        Минимум: {dialog_duration_min:.2f}\n",
    "        Максимум: {dialog_duration_max:.2f}\n",
    "        В среднем: {dialog_duration_mean:.2f}\n",
    "\n",
    "    Всего клиентов: {total_clients}\n",
    "    Всего взаимодействий: {total_requests}\n",
    "''')\n",
    "\n",
    "print_results()"
   ],
   "metadata": {
    "collapsed": false,
    "pycharm": {
     "name": "#%%\n"
    }
   }
  },
  {
   "cell_type": "markdown",
   "source": [
    "## Описание результатов\n",
    "\n",
    "Простыми словами об эксперименте и полученных числах:"
   ],
   "metadata": {
    "collapsed": false
   }
  },
  {
   "cell_type": "code",
   "execution_count": 48,
   "outputs": [
    {
     "name": "stdout",
     "output_type": "stream",
     "text": [
      "В бот шел поток 800-1200 лидов в час\n",
      "на протяжении 5 рекламных дней по 24 часов каждый день.\n",
      "Всего получено 121221 лидов.\n",
      "\n",
      "Каждый лид получал от бота случайное количество сообщений (от 2 до 50),\n",
      "со случайными временными промежутками между ними (от 5.0 секунд, см. график Длительность диалога).\n",
      "\n",
      "Такая симуляция произвела большой поток запросов от бота. Он менялся от 0 до 26 запросов в секунду.\n",
      "В среднем держался 6.99 запросов в секунду.\n",
      "\n"
     ]
    }
   ],
   "source": [
    "print(f'''В бот шел поток {MIN_CLICKS_PER_HOUR}-{MAX_CLICKS_PER_HOUR} лидов в час\n",
    "на протяжении {AD_TOTAL_DAYS} рекламных дней по {AD_ACTIVE_HOURS_PER_DAY} часов каждый день.\n",
    "Всего получено {total_clients} лидов.\n",
    "\n",
    "Каждый лид получал от бота случайное количество сообщений (от {MIN_STEPS} до {MAX_STEPS}),\n",
    "со случайными временными промежутками между ними (от {MIN_SECONDS_BETWEEN_STEPS} секунд, см. график Длительность диалога).\n",
    "\n",
    "Такая симуляция произвела большой поток запросов от бота. Он менялся от {rps_min} до {rps_max} запросов в секунду.\n",
    "В среднем держался {rps_mean:.2f} запросов в секунду.\n",
    "''')"
   ],
   "metadata": {
    "collapsed": false,
    "pycharm": {
     "name": "#%%\n"
    }
   }
  },
  {
   "cell_type": "markdown",
   "source": [
    "## Вывод\n",
    "\n",
    "### Как использовать эти результаты?\n",
    "\n",
    "Если ты ожидаешь от своей аудитории похожее взаимодействие с ботом:\n",
    "(25 ± 20 сообщений с непредсказуемыми промежутками между ними) и\n",
    "приводишь в бот около 1000 человек в час, то бот должен выдержать такую нагрузку и всегда отвечать мгновенно.\n",
    "\n",
    "Кроме этого можно сделать уверенное предположение, что при суммарном повышении нагрузки в два раза\n",
    "бот будет часто отвечать с задержкой в 1 секунду, иногда мгновенно. При повышении нагрузки до 10 раз,\n",
    "средняя задержка ответа будет возрастать линейно, до 10 секунд.\n",
    "\n",
    "Причем нагрузку можно изменять двумя способами: менять число лидов в час и изменять глубину среднего диалога.\n",
    "\n",
    "Нагрузку более чем 10К человек в час при похожем сценарии диалога я не рекомендую давать.\n",
    "\n",
    "Формула оценки средней задержки бота для похожих сценариев:\n",
    "\n",
    "`LATENCY = DIALOG_SIZE * CPS / 25000`\n",
    "\n",
    "где:\n",
    "- `LATENCY` — оценка средней задержки ответа бота, в секундах\n",
    "- `DIALOG_SIZE` — средняя длина диалога, в сообщениях\n",
    "- `CPS` — CLICK PER SECOND — среднее количество переходов в бот, в кликах в секунду\n",
    "\n",
    "### Что если взаимодействие с ботом будет несколько дней?\n",
    "\n",
    "Такое может быть, если бот запрограммирован через день или более начинать взаимодействие снова,\n",
    "например, отправив полезный пост или напоминание клиенту. Или если ты вручную просишь своих клиентов\n",
    "вернуться в бот и выполнить действие. Или запускаешь ретаргетинг.\n",
    "\n",
    "Это может увеличить нагрузку в середине рекламного периода, например на второй, третий день активного потока лидов в бот.\n",
    "Потому что многие первые лиды еще продолжают взаимодействовать с ботом, а поток новых никуда не делся.\n",
    "\n",
    "Дополнительную нагрузку в каждый такой день можно оценить отдельно и добавить в общую нагрузку:\n",
    "- оценить, сколько клиентов продолжат взаимодействие после напоминания бота (`CPS_ADD`)\n",
    "- оценить, какая у таких клиентов будет средняя длина диалога (`DIALOG_SIZE_ADD`)\n",
    "- добавить эти новые параметры в формулу:\n",
    "    `LATENCY = (DIALOG_SIZE * CPS + DIALOG_SIZE_ADD * CPS_ADD) / 25000`\n",
    "\n",
    "Так ты получишь оценку задержки ответа бота в часы запланированного поста в середине рекламной кампании.\n",
    "Это можно проделать для каждого дополнительного дня авто-воронки. Однако эти доп расчеты справедливы только, если\n",
    "пост запланирован на выполнение через фиксированный период времени после какого-то этапа предыдущего дня,\n",
    "например через 24 часа после начала диалога. Если пост запланирован на определенное время суток для всех\n",
    "клиентов, то в это время суток нагрузка будет в десятки раз выше.\n",
    "\n",
    "Например, рассчитаем дополнительную нагрузку к этому эксперименту:\n",
    "\n",
    "Допустим, бот на следующий день начинает с клиентом новый диалог и в среднем такой диалог содержит 40 сообщений.\n",
    "Предположим, что 50% лидов отсеялись на предыдущем дне и заблокировали бота. Тогда в течение следующего дня\n",
    "общая нагрузка на бот будет равномерно увеличена. И средняя задержка в этот день будет примерно такая:\n",
    "\n",
    "`LATENCY = (25 * 1000 + 40 * 500) / 25000 = 1.8` секунд."
   ],
   "metadata": {
    "collapsed": false,
    "pycharm": {
     "name": "#%% md\n"
    }
   }
  }
 ],
 "metadata": {
  "kernelspec": {
   "display_name": "Python 3",
   "language": "python",
   "name": "python3"
  },
  "language_info": {
   "codemirror_mode": {
    "name": "ipython",
    "version": 2
   },
   "file_extension": ".py",
   "mimetype": "text/x-python",
   "name": "python",
   "nbconvert_exporter": "python",
   "pygments_lexer": "ipython2",
   "version": "2.7.6"
  }
 },
 "nbformat": 4,
 "nbformat_minor": 0
}