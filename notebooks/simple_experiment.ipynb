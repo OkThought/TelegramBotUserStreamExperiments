{
 "cells": [
  {
   "cell_type": "markdown",
   "source": [
    "## Простой эксперимент\n",
    "\n",
    "### Вводные данные"
   ],
   "metadata": {
    "collapsed": false
   }
  },
  {
   "cell_type": "code",
   "execution_count": 122,
   "outputs": [
    {
     "name": "stdout",
     "output_type": "stream",
     "text": [
      "Параметры эксперимента:\n",
      "\n",
      "Старт рекламы: 2021-11-10 12:00:00+02:30\n",
      "Продолжительность рекламы: 5 дней\n",
      "Реклама активна в течение каждого дня: 24 часов\n",
      "Количество кликов по рекламе в час (минимум): 800\n",
      "Количество кликов по рекламе в час (максимум): 1200\n",
      "Вероятность, что клиент уйдет (действует на каждом шаге): 0.10%\n",
      "Сколько шагов проходит каждый клиент (максимум): 50\n",
      "Время между шагами (среднее): 60\n",
      "Время между шагами (стандартное отклонение): 30\n",
      "\n"
     ]
    }
   ],
   "source": [
    "import datetime as dt\n",
    "import pytz\n",
    "\n",
    "MSK = pytz.timezone('Europe/Moscow')\n",
    "\n",
    "AD_START_TIME = dt.datetime(2021, 11, 10, 12, tzinfo=MSK)\n",
    "AD_START_TIME.isoformat()\n",
    "\n",
    "MIN_CLICKS_PER_HOUR = 800\n",
    "MAX_CLICKS_PER_HOUR = 1200\n",
    "\n",
    "AD_TOTAL_DAYS = 5\n",
    "AD_ACTIVE_HOURS_PER_DAY = 24\n",
    "\n",
    "EXIT_PROBABILITY = .001\n",
    "\n",
    "MAX_STEPS = 50\n",
    "MIN_SECONDS_BETWEEN_STEPS = 5\n",
    "MAX_SECONDS_BETWEEN_STEPS = 60 * 60  # 60 minutes\n",
    "MEAN_SECONDS_BETWEEN_STEPS = 60  # 60 seconds\n",
    "STD_SECONDS_BETWEEN_STEPS = 30  # 30 seconds\n",
    "\n",
    "def print_inputs():\n",
    "    print(\n",
    "        f'Параметры эксперимента:\\n\\n'\n",
    "        f'Старт рекламы: {AD_START_TIME}\\n'\n",
    "        f'Продолжительность рекламы: {AD_TOTAL_DAYS} дней\\n'\n",
    "        f'Реклама активна в течение каждого дня: {AD_ACTIVE_HOURS_PER_DAY} часов\\n'\n",
    "        f'Количество кликов по рекламе в час (минимум): {MIN_CLICKS_PER_HOUR}\\n'\n",
    "        f'Количество кликов по рекламе в час (максимум): {MAX_CLICKS_PER_HOUR}\\n'\n",
    "        f'Вероятность, что клиент уйдет (действует на каждом шаге): {EXIT_PROBABILITY:.2%}\\n'\n",
    "        f'Сколько шагов проходит каждый клиент (максимум): {MAX_STEPS}\\n'\n",
    "        f'Время между шагами (среднее): {MEAN_SECONDS_BETWEEN_STEPS}\\n'\n",
    "        f'Время между шагами (стандартное отклонение): {STD_SECONDS_BETWEEN_STEPS}\\n'\n",
    "    )\n",
    "\n",
    "print_inputs()"
   ],
   "metadata": {
    "collapsed": false,
    "pycharm": {
     "name": "#%%\n"
    }
   }
  },
  {
   "cell_type": "markdown",
   "source": [
    "### Симуляция"
   ],
   "metadata": {
    "collapsed": false
   }
  },
  {
   "cell_type": "code",
   "execution_count": 94,
   "outputs": [],
   "source": [
    "import pandas as pd\n",
    "import random\n",
    "\n",
    "requests = []\n",
    "total_clients = 0\n",
    "for day in range(AD_TOTAL_DAYS):\n",
    "    for hour in range(AD_ACTIVE_HOURS_PER_DAY):\n",
    "        clicks_in_this_hour = random.uniform(MIN_CLICKS_PER_HOUR, MAX_CLICKS_PER_HOUR)\n",
    "        start_time = AD_START_TIME + dt.timedelta(days=day, hours=hour)\n",
    "        for click_no in range(int(clicks_in_this_hour)):\n",
    "            client_id = f'{day}:{hour}:{click_no}'\n",
    "            total_clients += 1\n",
    "            start_time = AD_START_TIME + dt.timedelta(days=day, hours=hour + random.uniform(0, 1))\n",
    "            request_time = start_time\n",
    "            for step in range(MAX_STEPS):\n",
    "                requests.append({\n",
    "                    'time': request_time,\n",
    "                    'client': client_id,\n",
    "                })\n",
    "                client_leaves_now = random.uniform(0, 1) <= EXIT_PROBABILITY\n",
    "                if client_leaves_now:\n",
    "                    break\n",
    "\n",
    "                request_time += dt.timedelta(seconds=max(.0, random.gauss(MEAN_SECONDS_BETWEEN_STEPS, STD_SECONDS_BETWEEN_STEPS)))"
   ],
   "metadata": {
    "collapsed": false,
    "pycharm": {
     "name": "#%%\n"
    }
   }
  },
  {
   "cell_type": "code",
   "execution_count": 95,
   "outputs": [],
   "source": [
    "requests_df = pd.DataFrame.from_records(requests, index='time')"
   ],
   "metadata": {
    "collapsed": false,
    "pycharm": {
     "name": "#%%\n"
    }
   }
  },
  {
   "cell_type": "code",
   "execution_count": 96,
   "outputs": [
    {
     "data": {
      "text/plain": "                                 client\ntime                                   \n2021-11-10 12:37:00.030460+03:00  0:0:0\n2021-11-10 12:38:04.011999+03:00  0:0:0\n2021-11-10 12:39:04.992183+03:00  0:0:0\n2021-11-10 12:39:48.959445+03:00  0:0:0\n2021-11-10 12:41:23.510351+03:00  0:0:0",
      "text/html": "<div>\n<style scoped>\n    .dataframe tbody tr th:only-of-type {\n        vertical-align: middle;\n    }\n\n    .dataframe tbody tr th {\n        vertical-align: top;\n    }\n\n    .dataframe thead th {\n        text-align: right;\n    }\n</style>\n<table border=\"1\" class=\"dataframe\">\n  <thead>\n    <tr style=\"text-align: right;\">\n      <th></th>\n      <th>client</th>\n    </tr>\n    <tr>\n      <th>time</th>\n      <th></th>\n    </tr>\n  </thead>\n  <tbody>\n    <tr>\n      <th>2021-11-10 12:37:00.030460+03:00</th>\n      <td>0:0:0</td>\n    </tr>\n    <tr>\n      <th>2021-11-10 12:38:04.011999+03:00</th>\n      <td>0:0:0</td>\n    </tr>\n    <tr>\n      <th>2021-11-10 12:39:04.992183+03:00</th>\n      <td>0:0:0</td>\n    </tr>\n    <tr>\n      <th>2021-11-10 12:39:48.959445+03:00</th>\n      <td>0:0:0</td>\n    </tr>\n    <tr>\n      <th>2021-11-10 12:41:23.510351+03:00</th>\n      <td>0:0:0</td>\n    </tr>\n  </tbody>\n</table>\n</div>"
     },
     "execution_count": 96,
     "metadata": {},
     "output_type": "execute_result"
    }
   ],
   "source": [
    "requests_df.head()"
   ],
   "metadata": {
    "collapsed": false,
    "pycharm": {
     "name": "#%%\n"
    }
   }
  },
  {
   "cell_type": "code",
   "execution_count": 114,
   "outputs": [
    {
     "data": {
      "text/plain": "                           requests\ntime                               \n2021-11-10 12:30:04+03:00         1\n2021-11-10 12:30:05+03:00         1\n2021-11-10 12:30:06+03:00         1\n2021-11-10 12:30:07+03:00         0\n2021-11-10 12:30:08+03:00         0\n...                             ...\n2021-11-15 13:25:03+03:00         0\n2021-11-15 13:25:04+03:00         0\n2021-11-15 13:25:05+03:00         0\n2021-11-15 13:25:06+03:00         0\n2021-11-15 13:25:07+03:00         1\n\n[435304 rows x 1 columns]",
      "text/html": "<div>\n<style scoped>\n    .dataframe tbody tr th:only-of-type {\n        vertical-align: middle;\n    }\n\n    .dataframe tbody tr th {\n        vertical-align: top;\n    }\n\n    .dataframe thead th {\n        text-align: right;\n    }\n</style>\n<table border=\"1\" class=\"dataframe\">\n  <thead>\n    <tr style=\"text-align: right;\">\n      <th></th>\n      <th>requests</th>\n    </tr>\n    <tr>\n      <th>time</th>\n      <th></th>\n    </tr>\n  </thead>\n  <tbody>\n    <tr>\n      <th>2021-11-10 12:30:04+03:00</th>\n      <td>1</td>\n    </tr>\n    <tr>\n      <th>2021-11-10 12:30:05+03:00</th>\n      <td>1</td>\n    </tr>\n    <tr>\n      <th>2021-11-10 12:30:06+03:00</th>\n      <td>1</td>\n    </tr>\n    <tr>\n      <th>2021-11-10 12:30:07+03:00</th>\n      <td>0</td>\n    </tr>\n    <tr>\n      <th>2021-11-10 12:30:08+03:00</th>\n      <td>0</td>\n    </tr>\n    <tr>\n      <th>...</th>\n      <td>...</td>\n    </tr>\n    <tr>\n      <th>2021-11-15 13:25:03+03:00</th>\n      <td>0</td>\n    </tr>\n    <tr>\n      <th>2021-11-15 13:25:04+03:00</th>\n      <td>0</td>\n    </tr>\n    <tr>\n      <th>2021-11-15 13:25:05+03:00</th>\n      <td>0</td>\n    </tr>\n    <tr>\n      <th>2021-11-15 13:25:06+03:00</th>\n      <td>0</td>\n    </tr>\n    <tr>\n      <th>2021-11-15 13:25:07+03:00</th>\n      <td>1</td>\n    </tr>\n  </tbody>\n</table>\n<p>435304 rows × 1 columns</p>\n</div>"
     },
     "execution_count": 114,
     "metadata": {},
     "output_type": "execute_result"
    }
   ],
   "source": [
    "df = requests_df.copy()\n",
    "df['requests'] = 1\n",
    "df.drop(columns='client', inplace=True)\n",
    "df.sort_index(inplace=True)\n",
    "df = df.resample('S').sum()\n",
    "df"
   ],
   "metadata": {
    "collapsed": false,
    "pycharm": {
     "name": "#%%\n"
    }
   }
  },
  {
   "cell_type": "markdown",
   "source": [
    "### Результаты"
   ],
   "metadata": {
    "collapsed": false
   }
  },
  {
   "cell_type": "code",
   "execution_count": 115,
   "outputs": [
    {
     "data": {
      "text/plain": "<AxesSubplot:xlabel='time'>"
     },
     "execution_count": 115,
     "metadata": {},
     "output_type": "execute_result"
    },
    {
     "data": {
      "text/plain": "<Figure size 432x288 with 1 Axes>",
      "image/png": "[encoded data removed]"
     },
     "metadata": {
      "needs_background": "light"
     },
     "output_type": "display_data"
    }
   ],
   "source": [
    "df.plot()"
   ],
   "metadata": {
    "collapsed": false,
    "pycharm": {
     "name": "#%%\n"
    }
   }
  },
  {
   "cell_type": "code",
   "execution_count": 119,
   "outputs": [
    {
     "name": "stdout",
     "output_type": "stream",
     "text": [
      "Статистика:\n",
      "\n",
      "Запросов в секунду:\n",
      "  Максимум: 36\n",
      "  Минимум: 0\n",
      "  В среднем: 13.45\n",
      "\n",
      "Всего клиентов: 120014\n",
      "\n"
     ]
    }
   ],
   "source": [
    "def print_results():\n",
    "    print(\n",
    "        'Статистика:\\n\\n'\n",
    "        'Запросов в секунду:\\n'\n",
    "        f'  Максимум: {df.requests.max()}\\n'\n",
    "        f'  Минимум: {df.requests.min()}\\n'\n",
    "        f'  В среднем: {df.requests.mean():.2f}\\n\\n'\n",
    "        f'Всего клиентов: {total_clients}\\n'\n",
    "    )\n",
    "\n",
    "print_results()"
   ],
   "metadata": {
    "collapsed": false,
    "pycharm": {
     "name": "#%%\n"
    }
   }
  },
  {
   "cell_type": "code",
   "execution_count": 120,
   "outputs": [
    {
     "name": "stdout",
     "output_type": "stream",
     "text": [
      "Старт рекламы: 2021-11-10 12:00:00+02:30\n",
      "Продолжительность рекламы: 5 дней\n",
      "Реклама активна в течение каждого дня: 24 часов\n",
      "Количество кликов по рекламе в час (минимум): 800\n",
      "Количество кликов по рекламе в час (максимум): 1200\n",
      "Вероятность, что клиент уйдет (действует на каждом шаге): 0.10%\n",
      "Сколько шагов проходит каждый клиент (максимум): 50\n",
      "Время между шагами (среднее): 60\n",
      "Время между шагами (стандартное отклонение): 30\n",
      "\n"
     ]
    }
   ],
   "source": [
    "print_inputs()"
   ],
   "metadata": {
    "collapsed": false,
    "pycharm": {
     "name": "#%%\n"
    }
   }
  }
 ],
 "metadata": {
  "kernelspec": {
   "display_name": "Python 3",
   "language": "python",
   "name": "python3"
  },
  "language_info": {
   "codemirror_mode": {
    "name": "ipython",
    "version": 2
   },
   "file_extension": ".py",
   "mimetype": "text/x-python",
   "name": "python",
   "nbconvert_exporter": "python",
   "pygments_lexer": "ipython2",
   "version": "2.7.6"
  }
 },
 "nbformat": 4,
 "nbformat_minor": 0
}