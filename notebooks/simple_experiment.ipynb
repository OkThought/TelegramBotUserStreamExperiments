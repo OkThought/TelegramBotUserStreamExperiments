{
 "cells": [
  {
   "cell_type": "markdown",
   "source": [
    "## Простой эксперимент\n",
    "\n",
    "### Вводные данные"
   ],
   "metadata": {
    "collapsed": false
   }
  },
  {
   "cell_type": "markdown",
   "source": [
    "Ограничения Telegram Bot API"
   ],
   "metadata": {
    "collapsed": false
   }
  },
  {
   "cell_type": "code",
   "execution_count": 88,
   "outputs": [],
   "source": [
    "MAX_REQUEST_PER_SECOND = 30\n",
    "MAX_MESSAGES_IN_CHAT_PER_MINUTE = 20"
   ],
   "metadata": {
    "collapsed": false,
    "pycharm": {
     "name": "#%%\n"
    }
   }
  },
  {
   "cell_type": "markdown",
   "source": [
    "Число переходов в бот с рекламы в час. Минимум, максимум."
   ],
   "metadata": {
    "collapsed": false
   }
  },
  {
   "cell_type": "code",
   "execution_count": 89,
   "outputs": [],
   "source": [
    "MIN_CLICKS_PER_HOUR = 800\n",
    "MAX_CLICKS_PER_HOUR = 1200"
   ],
   "metadata": {
    "collapsed": false,
    "pycharm": {
     "name": "#%%\n"
    }
   }
  },
  {
   "cell_type": "markdown",
   "source": [
    "Время старта рекламы"
   ],
   "metadata": {
    "collapsed": false
   }
  },
  {
   "cell_type": "code",
   "execution_count": 90,
   "outputs": [
    {
     "data": {
      "text/plain": "'2021-11-10T12:00:00+02:30'"
     },
     "execution_count": 90,
     "metadata": {},
     "output_type": "execute_result"
    }
   ],
   "source": [
    "import datetime as dt\n",
    "import pytz\n",
    "\n",
    "MSK = pytz.timezone('Europe/Moscow')\n",
    "\n",
    "AD_START_TIME = dt.datetime(2021, 11, 10, 12, tzinfo=MSK)\n",
    "AD_START_TIME.isoformat()"
   ],
   "metadata": {
    "collapsed": false,
    "pycharm": {
     "name": "#%%\n"
    }
   }
  },
  {
   "cell_type": "markdown",
   "source": [
    "Количество рекламных дней."
   ],
   "metadata": {
    "collapsed": false
   }
  },
  {
   "cell_type": "code",
   "execution_count": 91,
   "outputs": [],
   "source": [
    "AD_TOTAL_DAYS = 5\n",
    "AD_ACTIVE_HOURS_PER_DAY = 24"
   ],
   "metadata": {
    "collapsed": false,
    "pycharm": {
     "name": "#%%\n"
    }
   }
  },
  {
   "cell_type": "markdown",
   "source": [
    "Вероятность, что на любом шаге клиент закроет бота и больше не вернется."
   ],
   "metadata": {
    "collapsed": false
   }
  },
  {
   "cell_type": "code",
   "execution_count": 92,
   "outputs": [
    {
     "data": {
      "text/plain": "'С вероятностью 0.1% клиент уйдет с данного шага'"
     },
     "execution_count": 92,
     "metadata": {},
     "output_type": "execute_result"
    }
   ],
   "source": [
    "EXIT_PROBABILITY = .001\n",
    "f'С вероятностью {EXIT_PROBABILITY:.1%} клиент уйдет с данного шага'"
   ],
   "metadata": {
    "collapsed": false,
    "pycharm": {
     "name": "#%%\n"
    }
   }
  },
  {
   "cell_type": "markdown",
   "source": [
    "Сколько взаимодействий клиент сделает в боте в среднем. Сколько времени между двумя взаимодействиями в среднем. Шум."
   ],
   "metadata": {
    "collapsed": false
   }
  },
  {
   "cell_type": "code",
   "execution_count": 93,
   "outputs": [],
   "source": [
    "MAX_STEPS = 50\n",
    "MIN_SECONDS_BETWEEN_STEPS = 5\n",
    "MAX_SECONDS_BETWEEN_STEPS = 60 * 60  # 60 minutes\n",
    "MEAN_SECONDS_BETWEEN_STEPS = 60  # 60 seconds\n",
    "STD_SECONDS_BETWEEN_STEPS = 30  # 30 seconds"
   ],
   "metadata": {
    "collapsed": false,
    "pycharm": {
     "name": "#%%\n"
    }
   }
  },
  {
   "cell_type": "markdown",
   "source": [
    "### Симуляция"
   ],
   "metadata": {
    "collapsed": false
   }
  },
  {
   "cell_type": "code",
   "execution_count": 94,
   "outputs": [],
   "source": [
    "import pandas as pd\n",
    "import random\n",
    "\n",
    "requests = []\n",
    "total_clients = 0\n",
    "for day in range(AD_TOTAL_DAYS):\n",
    "    for hour in range(AD_ACTIVE_HOURS_PER_DAY):\n",
    "        clicks_in_this_hour = random.uniform(MIN_CLICKS_PER_HOUR, MAX_CLICKS_PER_HOUR)\n",
    "        start_time = AD_START_TIME + dt.timedelta(days=day, hours=hour)\n",
    "        for click_no in range(int(clicks_in_this_hour)):\n",
    "            client_id = f'{day}:{hour}:{click_no}'\n",
    "            total_clients += 1\n",
    "            start_time = AD_START_TIME + dt.timedelta(days=day, hours=hour + random.uniform(0, 1))\n",
    "            request_time = start_time\n",
    "            for step in range(MAX_STEPS):\n",
    "                requests.append({\n",
    "                    'time': request_time,\n",
    "                    'client': client_id,\n",
    "                })\n",
    "                client_leaves_now = random.uniform(0, 1) <= EXIT_PROBABILITY\n",
    "                if client_leaves_now:\n",
    "                    break\n",
    "\n",
    "                request_time += dt.timedelta(seconds=max(.0, random.gauss(MEAN_SECONDS_BETWEEN_STEPS, STD_SECONDS_BETWEEN_STEPS)))"
   ],
   "metadata": {
    "collapsed": false,
    "pycharm": {
     "name": "#%%\n"
    }
   }
  },
  {
   "cell_type": "code",
   "execution_count": 95,
   "outputs": [],
   "source": [
    "requests_df = pd.DataFrame.from_records(requests, index='time')"
   ],
   "metadata": {
    "collapsed": false,
    "pycharm": {
     "name": "#%%\n"
    }
   }
  },
  {
   "cell_type": "code",
   "execution_count": 96,
   "outputs": [
    {
     "data": {
      "text/plain": "                                 client\ntime                                   \n2021-11-10 12:37:00.030460+03:00  0:0:0\n2021-11-10 12:38:04.011999+03:00  0:0:0\n2021-11-10 12:39:04.992183+03:00  0:0:0\n2021-11-10 12:39:48.959445+03:00  0:0:0\n2021-11-10 12:41:23.510351+03:00  0:0:0",
      "text/html": "<div>\n<style scoped>\n    .dataframe tbody tr th:only-of-type {\n        vertical-align: middle;\n    }\n\n    .dataframe tbody tr th {\n        vertical-align: top;\n    }\n\n    .dataframe thead th {\n        text-align: right;\n    }\n</style>\n<table border=\"1\" class=\"dataframe\">\n  <thead>\n    <tr style=\"text-align: right;\">\n      <th></th>\n      <th>client</th>\n    </tr>\n    <tr>\n      <th>time</th>\n      <th></th>\n    </tr>\n  </thead>\n  <tbody>\n    <tr>\n      <th>2021-11-10 12:37:00.030460+03:00</th>\n      <td>0:0:0</td>\n    </tr>\n    <tr>\n      <th>2021-11-10 12:38:04.011999+03:00</th>\n      <td>0:0:0</td>\n    </tr>\n    <tr>\n      <th>2021-11-10 12:39:04.992183+03:00</th>\n      <td>0:0:0</td>\n    </tr>\n    <tr>\n      <th>2021-11-10 12:39:48.959445+03:00</th>\n      <td>0:0:0</td>\n    </tr>\n    <tr>\n      <th>2021-11-10 12:41:23.510351+03:00</th>\n      <td>0:0:0</td>\n    </tr>\n  </tbody>\n</table>\n</div>"
     },
     "execution_count": 96,
     "metadata": {},
     "output_type": "execute_result"
    }
   ],
   "source": [
    "requests_df.head()"
   ],
   "metadata": {
    "collapsed": false,
    "pycharm": {
     "name": "#%%\n"
    }
   }
  },
  {
   "cell_type": "markdown",
   "source": [
    "### Результаты"
   ],
   "metadata": {
    "collapsed": false
   }
  },
  {
   "cell_type": "code",
   "execution_count": 97,
   "outputs": [
    {
     "data": {
      "text/plain": "time\n2021-11-10 12:30:04+03:00    1\n2021-11-10 12:30:05+03:00    1\n2021-11-10 12:30:06+03:00    1\n2021-11-10 12:30:07+03:00    0\n2021-11-10 12:30:08+03:00    0\nFreq: S, Name: requests, dtype: int64"
     },
     "execution_count": 97,
     "metadata": {},
     "output_type": "execute_result"
    }
   ],
   "source": [
    "s = pd.Series(1, requests_df.index, name='requests')\n",
    "s.sort_index(inplace=True)\n",
    "s = s.resample('S').sum()\n",
    "s.head()"
   ],
   "metadata": {
    "collapsed": false,
    "pycharm": {
     "name": "#%%\n"
    }
   }
  },
  {
   "cell_type": "code",
   "execution_count": 98,
   "outputs": [
    {
     "data": {
      "text/plain": "<AxesSubplot:xlabel='time'>"
     },
     "execution_count": 98,
     "metadata": {},
     "output_type": "execute_result"
    },
    {
     "data": {
      "text/plain": "<Figure size 432x288 with 1 Axes>",
      "image/png": "[encoded data removed]"
     },
     "metadata": {
      "needs_background": "light"
     },
     "output_type": "display_data"
    }
   ],
   "source": [
    "s.plot()"
   ],
   "metadata": {
    "collapsed": false,
    "pycharm": {
     "name": "#%%\n"
    }
   }
  },
  {
   "cell_type": "code",
   "execution_count": 99,
   "outputs": [
    {
     "name": "stdout",
     "output_type": "stream",
     "text": [
      "Статистика:\n",
      "\n",
      "Запросов в секунду:\n",
      "  Максимум: 36\n",
      "  Минимум: 0\n",
      "  В среднем: 13.45\n",
      "\n",
      "Всего клиентов: 120014\n"
     ]
    }
   ],
   "source": [
    "print(\n",
    "    'Статистика:\\n\\n'\n",
    "    'Запросов в секунду:\\n'\n",
    "    f'  Максимум: {s.max()}\\n'\n",
    "    f'  Минимум: {s.min()}\\n'\n",
    "    f'  В среднем: {s.mean():.2f}\\n\\n'\n",
    "    f'Всего клиентов: {total_clients}\\n'\n",
    "    f'Рекламных дней: {AD_TOTAL_DAYS}\\n'\n",
    "    f'Рекламных дней: {AD_TOTAL_DAYS}\\n'\n",
    ")"
   ],
   "metadata": {
    "collapsed": false,
    "pycharm": {
     "name": "#%%\n"
    }
   }
  },
  {
   "cell_type": "code",
   "execution_count": 100,
   "outputs": [],
   "source": [
    "\n",
    "# total_clients"
   ],
   "metadata": {
    "collapsed": false,
    "pycharm": {
     "name": "#%%\n"
    }
   }
  }
 ],
 "metadata": {
  "kernelspec": {
   "display_name": "Python 3",
   "language": "python",
   "name": "python3"
  },
  "language_info": {
   "codemirror_mode": {
    "name": "ipython",
    "version": 2
   },
   "file_extension": ".py",
   "mimetype": "text/x-python",
   "name": "python",
   "nbconvert_exporter": "python",
   "pygments_lexer": "ipython2",
   "version": "2.7.6"
  }
 },
 "nbformat": 4,
 "nbformat_minor": 0
}